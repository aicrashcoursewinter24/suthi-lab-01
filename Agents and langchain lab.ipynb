{
  "nbformat": 4,
  "nbformat_minor": 0,
  "metadata": {
    "colab": {
      "provenance": []
    },
    "kernelspec": {
      "name": "python3",
      "display_name": "Python 3"
    },
    "language_info": {
      "name": "python"
    }
  },
  "cells": [
    {
      "cell_type": "markdown",
      "source": [
        "Lab: creating simple LLMChains with memory, and Agents without memory, with the goal of: getting a working Agent with memory and a few simple tools.  PR can be in a colab notebook, or just python code that works in the REPL"
      ],
      "metadata": {
        "id": "qJgD_prNi6C-"
      }
    },
    {
      "cell_type": "code",
      "source": [
        "!pip install langchain"
      ],
      "metadata": {
        "colab": {
          "base_uri": "https://localhost:8080/"
        },
        "id": "IZch005-m4l3",
        "outputId": "353f1a0c-5ed2-499a-a6db-003cb6994d31"
      },
      "execution_count": 3,
      "outputs": [
        {
          "output_type": "stream",
          "name": "stdout",
          "text": [
            "Collecting langchain\n",
            "  Downloading langchain-0.1.1-py3-none-any.whl (802 kB)\n",
            "\u001b[2K     \u001b[90m━━━━━━━━━━━━━━━━━━━━━━━━━━━━━━━━━━━━━━━━\u001b[0m \u001b[32m802.4/802.4 kB\u001b[0m \u001b[31m6.1 MB/s\u001b[0m eta \u001b[36m0:00:00\u001b[0m\n",
            "\u001b[?25hRequirement already satisfied: PyYAML>=5.3 in /usr/local/lib/python3.10/dist-packages (from langchain) (6.0.1)\n",
            "Requirement already satisfied: SQLAlchemy<3,>=1.4 in /usr/local/lib/python3.10/dist-packages (from langchain) (2.0.24)\n",
            "Requirement already satisfied: aiohttp<4.0.0,>=3.8.3 in /usr/local/lib/python3.10/dist-packages (from langchain) (3.9.1)\n",
            "Requirement already satisfied: async-timeout<5.0.0,>=4.0.0 in /usr/local/lib/python3.10/dist-packages (from langchain) (4.0.3)\n",
            "Collecting dataclasses-json<0.7,>=0.5.7 (from langchain)\n",
            "  Downloading dataclasses_json-0.6.3-py3-none-any.whl (28 kB)\n",
            "Collecting jsonpatch<2.0,>=1.33 (from langchain)\n",
            "  Downloading jsonpatch-1.33-py2.py3-none-any.whl (12 kB)\n",
            "Collecting langchain-community<0.1,>=0.0.13 (from langchain)\n",
            "  Downloading langchain_community-0.0.13-py3-none-any.whl (1.6 MB)\n",
            "\u001b[2K     \u001b[90m━━━━━━━━━━━━━━━━━━━━━━━━━━━━━━━━━━━━━━━━\u001b[0m \u001b[32m1.6/1.6 MB\u001b[0m \u001b[31m11.3 MB/s\u001b[0m eta \u001b[36m0:00:00\u001b[0m\n",
            "\u001b[?25hCollecting langchain-core<0.2,>=0.1.9 (from langchain)\n",
            "  Downloading langchain_core-0.1.13-py3-none-any.whl (228 kB)\n",
            "\u001b[2K     \u001b[90m━━━━━━━━━━━━━━━━━━━━━━━━━━━━━━━━━━━━━━━━\u001b[0m \u001b[32m228.7/228.7 kB\u001b[0m \u001b[31m10.3 MB/s\u001b[0m eta \u001b[36m0:00:00\u001b[0m\n",
            "\u001b[?25hCollecting langsmith<0.1.0,>=0.0.77 (from langchain)\n",
            "  Downloading langsmith-0.0.83-py3-none-any.whl (49 kB)\n",
            "\u001b[2K     \u001b[90m━━━━━━━━━━━━━━━━━━━━━━━━━━━━━━━━━━━━━━━━\u001b[0m \u001b[32m49.3/49.3 kB\u001b[0m \u001b[31m6.0 MB/s\u001b[0m eta \u001b[36m0:00:00\u001b[0m\n",
            "\u001b[?25hRequirement already satisfied: numpy<2,>=1 in /usr/local/lib/python3.10/dist-packages (from langchain) (1.23.5)\n",
            "Requirement already satisfied: pydantic<3,>=1 in /usr/local/lib/python3.10/dist-packages (from langchain) (1.10.13)\n",
            "Requirement already satisfied: requests<3,>=2 in /usr/local/lib/python3.10/dist-packages (from langchain) (2.31.0)\n",
            "Requirement already satisfied: tenacity<9.0.0,>=8.1.0 in /usr/local/lib/python3.10/dist-packages (from langchain) (8.2.3)\n",
            "Requirement already satisfied: attrs>=17.3.0 in /usr/local/lib/python3.10/dist-packages (from aiohttp<4.0.0,>=3.8.3->langchain) (23.2.0)\n",
            "Requirement already satisfied: multidict<7.0,>=4.5 in /usr/local/lib/python3.10/dist-packages (from aiohttp<4.0.0,>=3.8.3->langchain) (6.0.4)\n",
            "Requirement already satisfied: yarl<2.0,>=1.0 in /usr/local/lib/python3.10/dist-packages (from aiohttp<4.0.0,>=3.8.3->langchain) (1.9.4)\n",
            "Requirement already satisfied: frozenlist>=1.1.1 in /usr/local/lib/python3.10/dist-packages (from aiohttp<4.0.0,>=3.8.3->langchain) (1.4.1)\n",
            "Requirement already satisfied: aiosignal>=1.1.2 in /usr/local/lib/python3.10/dist-packages (from aiohttp<4.0.0,>=3.8.3->langchain) (1.3.1)\n",
            "Collecting marshmallow<4.0.0,>=3.18.0 (from dataclasses-json<0.7,>=0.5.7->langchain)\n",
            "  Downloading marshmallow-3.20.2-py3-none-any.whl (49 kB)\n",
            "\u001b[2K     \u001b[90m━━━━━━━━━━━━━━━━━━━━━━━━━━━━━━━━━━━━━━━━\u001b[0m \u001b[32m49.4/49.4 kB\u001b[0m \u001b[31m6.6 MB/s\u001b[0m eta \u001b[36m0:00:00\u001b[0m\n",
            "\u001b[?25hCollecting typing-inspect<1,>=0.4.0 (from dataclasses-json<0.7,>=0.5.7->langchain)\n",
            "  Downloading typing_inspect-0.9.0-py3-none-any.whl (8.8 kB)\n",
            "Collecting jsonpointer>=1.9 (from jsonpatch<2.0,>=1.33->langchain)\n",
            "  Downloading jsonpointer-2.4-py2.py3-none-any.whl (7.8 kB)\n",
            "Requirement already satisfied: anyio<5,>=3 in /usr/local/lib/python3.10/dist-packages (from langchain-core<0.2,>=0.1.9->langchain) (3.7.1)\n",
            "Requirement already satisfied: packaging<24.0,>=23.2 in /usr/local/lib/python3.10/dist-packages (from langchain-core<0.2,>=0.1.9->langchain) (23.2)\n",
            "Requirement already satisfied: typing-extensions>=4.2.0 in /usr/local/lib/python3.10/dist-packages (from pydantic<3,>=1->langchain) (4.5.0)\n",
            "Requirement already satisfied: charset-normalizer<4,>=2 in /usr/local/lib/python3.10/dist-packages (from requests<3,>=2->langchain) (3.3.2)\n",
            "Requirement already satisfied: idna<4,>=2.5 in /usr/local/lib/python3.10/dist-packages (from requests<3,>=2->langchain) (3.6)\n",
            "Requirement already satisfied: urllib3<3,>=1.21.1 in /usr/local/lib/python3.10/dist-packages (from requests<3,>=2->langchain) (2.0.7)\n",
            "Requirement already satisfied: certifi>=2017.4.17 in /usr/local/lib/python3.10/dist-packages (from requests<3,>=2->langchain) (2023.11.17)\n",
            "Requirement already satisfied: greenlet!=0.4.17 in /usr/local/lib/python3.10/dist-packages (from SQLAlchemy<3,>=1.4->langchain) (3.0.3)\n",
            "Requirement already satisfied: sniffio>=1.1 in /usr/local/lib/python3.10/dist-packages (from anyio<5,>=3->langchain-core<0.2,>=0.1.9->langchain) (1.3.0)\n",
            "Requirement already satisfied: exceptiongroup in /usr/local/lib/python3.10/dist-packages (from anyio<5,>=3->langchain-core<0.2,>=0.1.9->langchain) (1.2.0)\n",
            "Collecting mypy-extensions>=0.3.0 (from typing-inspect<1,>=0.4.0->dataclasses-json<0.7,>=0.5.7->langchain)\n",
            "  Downloading mypy_extensions-1.0.0-py3-none-any.whl (4.7 kB)\n",
            "Installing collected packages: mypy-extensions, marshmallow, jsonpointer, typing-inspect, langsmith, jsonpatch, langchain-core, dataclasses-json, langchain-community, langchain\n",
            "Successfully installed dataclasses-json-0.6.3 jsonpatch-1.33 jsonpointer-2.4 langchain-0.1.1 langchain-community-0.0.13 langchain-core-0.1.13 langsmith-0.0.83 marshmallow-3.20.2 mypy-extensions-1.0.0 typing-inspect-0.9.0\n"
          ]
        }
      ]
    },
    {
      "cell_type": "code",
      "source": [
        "!pip install openai"
      ],
      "metadata": {
        "colab": {
          "base_uri": "https://localhost:8080/"
        },
        "id": "QKfQQ1ClI4o4",
        "outputId": "01bcd47f-999a-488d-8925-a2b04f9ef5f6"
      },
      "execution_count": 29,
      "outputs": [
        {
          "output_type": "stream",
          "name": "stdout",
          "text": [
            "Collecting openai\n",
            "  Using cached openai-1.8.0-py3-none-any.whl (222 kB)\n",
            "Requirement already satisfied: anyio<5,>=3.5.0 in /usr/local/lib/python3.10/dist-packages (from openai) (3.7.1)\n",
            "Requirement already satisfied: distro<2,>=1.7.0 in /usr/lib/python3/dist-packages (from openai) (1.7.0)\n",
            "Requirement already satisfied: httpx<1,>=0.23.0 in /usr/local/lib/python3.10/dist-packages (from openai) (0.26.0)\n",
            "Requirement already satisfied: pydantic<3,>=1.9.0 in /usr/local/lib/python3.10/dist-packages (from openai) (1.10.13)\n",
            "Requirement already satisfied: sniffio in /usr/local/lib/python3.10/dist-packages (from openai) (1.3.0)\n",
            "Requirement already satisfied: tqdm>4 in /usr/local/lib/python3.10/dist-packages (from openai) (4.66.1)\n",
            "Requirement already satisfied: typing-extensions<5,>=4.7 in /usr/local/lib/python3.10/dist-packages (from openai) (4.9.0)\n",
            "Requirement already satisfied: idna>=2.8 in /usr/local/lib/python3.10/dist-packages (from anyio<5,>=3.5.0->openai) (3.6)\n",
            "Requirement already satisfied: exceptiongroup in /usr/local/lib/python3.10/dist-packages (from anyio<5,>=3.5.0->openai) (1.2.0)\n",
            "Requirement already satisfied: certifi in /usr/local/lib/python3.10/dist-packages (from httpx<1,>=0.23.0->openai) (2023.11.17)\n",
            "Requirement already satisfied: httpcore==1.* in /usr/local/lib/python3.10/dist-packages (from httpx<1,>=0.23.0->openai) (1.0.2)\n",
            "Requirement already satisfied: h11<0.15,>=0.13 in /usr/local/lib/python3.10/dist-packages (from httpcore==1.*->httpx<1,>=0.23.0->openai) (0.14.0)\n",
            "Installing collected packages: openai\n",
            "\u001b[31mERROR: pip's dependency resolver does not currently take into account all the packages that are installed. This behaviour is the source of the following dependency conflicts.\n",
            "llmx 0.0.15a0 requires cohere, which is not installed.\n",
            "llmx 0.0.15a0 requires tiktoken, which is not installed.\u001b[0m\u001b[31m\n",
            "\u001b[0mSuccessfully installed openai-1.8.0\n"
          ]
        }
      ]
    },
    {
      "cell_type": "code",
      "source": [
        "!pip install -U duckduckgo-search"
      ],
      "metadata": {
        "colab": {
          "base_uri": "https://localhost:8080/"
        },
        "id": "5hwj1RTfrFtL",
        "outputId": "1ff9bc3f-9ee9-4ed8-c271-eb4de466f8f0"
      },
      "execution_count": 2,
      "outputs": [
        {
          "output_type": "stream",
          "name": "stdout",
          "text": [
            "Collecting duckduckgo-search\n",
            "  Downloading duckduckgo_search-4.2-py3-none-any.whl (25 kB)\n",
            "Requirement already satisfied: click>=8.1.7 in /usr/local/lib/python3.10/dist-packages (from duckduckgo-search) (8.1.7)\n",
            "Requirement already satisfied: lxml>=4.9.3 in /usr/local/lib/python3.10/dist-packages (from duckduckgo-search) (4.9.4)\n",
            "Collecting curl-cffi>=0.5.10 (from duckduckgo-search)\n",
            "  Downloading curl_cffi-0.5.10-cp37-abi3-manylinux_2_17_x86_64.manylinux2014_x86_64.whl (7.2 MB)\n",
            "\u001b[2K     \u001b[90m━━━━━━━━━━━━━━━━━━━━━━━━━━━━━━━━━━━━━━━━\u001b[0m \u001b[32m7.2/7.2 MB\u001b[0m \u001b[31m14.7 MB/s\u001b[0m eta \u001b[36m0:00:00\u001b[0m\n",
            "\u001b[?25hRequirement already satisfied: cffi>=1.12.0 in /usr/local/lib/python3.10/dist-packages (from curl-cffi>=0.5.10->duckduckgo-search) (1.16.0)\n",
            "Requirement already satisfied: pycparser in /usr/local/lib/python3.10/dist-packages (from cffi>=1.12.0->curl-cffi>=0.5.10->duckduckgo-search) (2.21)\n",
            "Installing collected packages: curl-cffi, duckduckgo-search\n",
            "Successfully installed curl-cffi-0.5.10 duckduckgo-search-4.2\n"
          ]
        }
      ]
    },
    {
      "cell_type": "markdown",
      "source": [
        "# Simple Chat agent using Anyscale w/ Memory"
      ],
      "metadata": {
        "id": "0bXCFXkxt7pi"
      }
    },
    {
      "cell_type": "code",
      "source": [
        "from langchain_community.chat_models import ChatAnyscale\n",
        "from langchain.agents import AgentExecutor, AgentType, load_tools, initialize_agent, get_all_tool_names, ZeroShotAgent, Tool\n",
        "from langchain.memory import ConversationBufferMemory\n",
        "from langchain.tools import DuckDuckGoSearchRun\n",
        "from langchain.chains import LLMChain\n",
        "from google.colab import userdata\n",
        "\n",
        "tool_names_used = [\"llm-math\", \"ddg-search\"]\n",
        "\n",
        "def build_simple_agent(tool_names):\n",
        "    llm = ChatAnyscale(anyscale_api_base=\"https://api.endpoints.anyscale.com/v1\",\n",
        "                    anyscale_api_key=userdata.get(\"ANYSCALE_API_KEY\"),\n",
        "                    model_name=\"mistralai/Mixtral-8x7B-Instruct-v0.1\",\n",
        "                    temperature=0.7,\n",
        "                    verbose=True)\n",
        "    tools=load_tools(tool_names, llm=llm)\n",
        "    agent=initialize_agent(tools, llm, agent=AgentType.ZERO_SHOT_REACT_DESCRIPTION,\n",
        "                        verbose=True)\n",
        "    print(agent.agent.llm_chain.prompt.template)\n",
        "    return agent\n",
        "\n",
        "def chat_with_agent(agent: AgentExecutor, user_input: str, handle_parsing_errors=True):\n",
        "    output=agent.invoke({'input': user_input})\n",
        "    return output\n",
        "\n",
        "\n"
      ],
      "metadata": {
        "id": "yvIDaJnqi51O"
      },
      "execution_count": 36,
      "outputs": []
    },
    {
      "cell_type": "markdown",
      "source": [
        "Interacting with my chat agent"
      ],
      "metadata": {
        "id": "bVgA1suDuENk"
      }
    },
    {
      "cell_type": "code",
      "execution_count": 30,
      "metadata": {
        "colab": {
          "base_uri": "https://localhost:8080/"
        },
        "id": "S0Qn6uJxi34v",
        "outputId": "c1d3e7bb-5fb8-4292-ebfa-4d0cf9ee89e0"
      },
      "outputs": [
        {
          "output_type": "stream",
          "name": "stdout",
          "text": [
            "Answer the following questions as best you can. You have access to the following tools:\n",
            "\n",
            "Calculator: Useful for when you need to answer questions about math.\n",
            "duckduckgo_search: A wrapper around DuckDuckGo Search. Useful for when you need to answer questions about current events. Input should be a search query.\n",
            "\n",
            "Use the following format:\n",
            "\n",
            "Question: the input question you must answer\n",
            "Thought: you should always think about what to do\n",
            "Action: the action to take, should be one of [Calculator, duckduckgo_search]\n",
            "Action Input: the input to the action\n",
            "Observation: the result of the action\n",
            "... (this Thought/Action/Action Input/Observation can repeat N times)\n",
            "Thought: I now know the final answer\n",
            "Final Answer: the final answer to the original input question\n",
            "\n",
            "Begin!\n",
            "\n",
            "Question: {input}\n",
            "Thought:{agent_scratchpad}\n",
            "\n",
            "\n",
            "\u001b[1m> Entering new AgentExecutor chain...\u001b[0m\n",
            "\u001b[32;1m\u001b[1;3m I need to find out the current weather in Caldwell, Idaho. I will use the duckduckgo_search tool for this.\n",
            "\n",
            "Action: duckduckgo_search\n",
            "Action Input: Weather in Caldwell Idaho today\n",
            "Observation\u001b[0m\n",
            "Observation: \u001b[33;1m\u001b[1;3m1 Gusts 3mph Tomorrow's temperature is forecast to be WARMER than today. Radar Satellite WunderMap |Nexrad Tonight Tue 01/16 Low 7 °F 100% Precip. / 1in Periods of snow. Low 7F. Winds light and... Caldwell, Idaho | Current Weather Forecasts, Live Radar Maps & News | WeatherBug Today's Weather - Caldwell, ID Jan 08, 2024 6:41 AM Jefferson MS -- Feels like -- Hi -- Lo -- -- Live Radar WEATHER DETAILS Caldwell, ID Windchill -- Daily Rain -- Dew Point -- Monthly Rain -- Humidity -- Avg. Wind -- Pressure -- Wind Gust -- Sunrise -- Moon -- Winter Storm and Blizzard Warnings for southern Idaho this weekend The 208 for Monday, Jan. 15 1/200 Watch on Winter weather shut down schools and roads across the state Wednesday.... CALDWELL, IDAHO (ID) 83605 local weather forecast and current conditions, radar, satellite loops, severe weather warnings, long range forecast. ... Today's Thunderstorm Probs - Today's Tornado, Wind & Hail Probs - 3 Day Severe Weather Outlook - Tornado, Wind, & Hail Reports; HURRICANE - 2023 Atlantic Hurricanes - Atlantic sea surface temperatures 39°F / 30°F Wind: 16mph SE Humidity: 71% Precip. probability: 5% Precipitation: 0\" UV index: 1 On Wednesday, in Caldwell, predominantly clouded weather is anticipated. Daytime will witness a high of a cold 39.2°F, slightly diverging from the expected night low of a freezing 30.2°F.\u001b[0m\n",
            "Thought:\u001b[32;1m\u001b[1;3m I have found the current weather in Caldwell, Idaho. It is slightly cloudy with a wind of 16 mph from the southeast, humidity of 71%, and a 5% probability of precipitation. The daytime high is a cold 39.2°F, and the night low is a freezing 30.2°F.\n",
            "\n",
            "Final Answer: The weather in Caldwell, Idaho is slightly cloudy with a wind of 16 mph from the southeast, humidity of 71%, and a 5% probability of precipitation. The daytime high is a cold 39.2°F, and the night low is a freezing 30.2°F.\u001b[0m\n",
            "\n",
            "\u001b[1m> Finished chain.\u001b[0m\n"
          ]
        },
        {
          "output_type": "execute_result",
          "data": {
            "text/plain": [
              "{'input': {'input': 'What is weather like today in Caldwell Idaho?'},\n",
              " 'output': 'The weather in Caldwell, Idaho is slightly cloudy with a wind of 16 mph from the southeast, humidity of 71%, and a 5% probability of precipitation. The daytime high is a cold 39.2°F, and the night low is a freezing 30.2°F.'}"
            ]
          },
          "metadata": {},
          "execution_count": 30
        }
      ],
      "source": [
        "chat_with_agent(build_simple_agent([\"llm-math\", \"ddg-search\"]),{\"input\":\"What is weather like today in Caldwell Idaho?\"})"
      ]
    },
    {
      "cell_type": "markdown",
      "source": [
        "Testing the Agent's ability to do math"
      ],
      "metadata": {
        "id": "HElGo8emJEZV"
      }
    },
    {
      "cell_type": "code",
      "source": [
        "chat_with_agent(build_simple_agent([\"llm-math\", \"ddg-search\"]),{\"input\":\"what is the derivative of y=e^x\"})"
      ],
      "metadata": {
        "colab": {
          "base_uri": "https://localhost:8080/"
        },
        "id": "pV0FxPThJD1J",
        "outputId": "eb54143e-e072-4fbb-8bfc-9a1437d32e03"
      },
      "execution_count": 31,
      "outputs": [
        {
          "output_type": "stream",
          "name": "stdout",
          "text": [
            "Answer the following questions as best you can. You have access to the following tools:\n",
            "\n",
            "Calculator: Useful for when you need to answer questions about math.\n",
            "duckduckgo_search: A wrapper around DuckDuckGo Search. Useful for when you need to answer questions about current events. Input should be a search query.\n",
            "\n",
            "Use the following format:\n",
            "\n",
            "Question: the input question you must answer\n",
            "Thought: you should always think about what to do\n",
            "Action: the action to take, should be one of [Calculator, duckduckgo_search]\n",
            "Action Input: the input to the action\n",
            "Observation: the result of the action\n",
            "... (this Thought/Action/Action Input/Observation can repeat N times)\n",
            "Thought: I now know the final answer\n",
            "Final Answer: the final answer to the original input question\n",
            "\n",
            "Begin!\n",
            "\n",
            "Question: {input}\n",
            "Thought:{agent_scratchpad}\n",
            "\n",
            "\n",
            "\u001b[1m> Entering new AgentExecutor chain...\u001b[0m\n",
            "\u001b[32;1m\u001b[1;3m The derivative of a function in the form of y = e^x is a fundamental concept in calculus. I can answer this question without external resources.\n",
            "\n",
            "Final Answer: The derivative of the function y = e^x is y' = e^x.\u001b[0m\n",
            "\n",
            "\u001b[1m> Finished chain.\u001b[0m\n"
          ]
        },
        {
          "output_type": "execute_result",
          "data": {
            "text/plain": [
              "{'input': {'input': 'what is the derivative of y=e^x'},\n",
              " 'output': \"The derivative of the function y = e^x is y' = e^x.\"}"
            ]
          },
          "metadata": {},
          "execution_count": 31
        }
      ]
    },
    {
      "cell_type": "markdown",
      "source": [
        "# Creating simple LLMChains with memory\n",
        "\n",
        "Let’s walk through the docs on usage of memory with simple LLM and Chat “chains” (simpler than agents, have no tools or loops, just PromptTemplates)\n"
      ],
      "metadata": {
        "id": "_pW-wEesyPZ4"
      }
    },
    {
      "cell_type": "code",
      "source": [
        "from langchain.prompts import PromptTemplate\n",
        "from langchain.chains import LLMChain\n",
        "from langchain.memory import ConversationBufferMemory\n",
        "\n",
        "\n",
        "llm = ChatAnyscale(anyscale_api_base=\"https://api.endpoints.anyscale.com/v1\",\n",
        "                    anyscale_api_key=userdata.get(\"ANYSCALE_API_KEY\"),\n",
        "                    model_name=\"mistralai/Mixtral-8x7B-Instruct-v0.1\",\n",
        "                    temperature=0.7,\n",
        "                    verbose=True)\n",
        "# Notice that \"chat_history\" is present in the prompt template\n",
        "template = \"\"\"You are a nice chatbot having a conversation with a human.\n",
        "\n",
        "Previous conversation:\n",
        "{chat_history}\n",
        "\n",
        "New human question: {question}\n",
        "Response:\"\"\"\n",
        "prompt = PromptTemplate.from_template(template)\n",
        "# Notice that we need to align the `memory_key`\n",
        "memory = ConversationBufferMemory(memory_key=\"chat_history\")\n",
        "conversation = LLMChain(\n",
        "    llm=llm,\n",
        "    prompt=prompt,\n",
        "    verbose=True,\n",
        "    memory=memory\n",
        ")"
      ],
      "metadata": {
        "id": "NT3bGBWgyfBO"
      },
      "execution_count": 20,
      "outputs": []
    },
    {
      "cell_type": "code",
      "source": [
        "# Notice that we just pass in the `question` variables - `chat_history` gets populated by memory\n",
        "conversation({\"question\": \"hi there! what formation is the best in a soccer match?\"})"
      ],
      "metadata": {
        "colab": {
          "base_uri": "https://localhost:8080/"
        },
        "id": "lrYAvcMLzVjm",
        "outputId": "cb92eb50-3b65-4a16-a90f-6f31d789083a"
      },
      "execution_count": 23,
      "outputs": [
        {
          "output_type": "stream",
          "name": "stdout",
          "text": [
            "\n",
            "\n",
            "\u001b[1m> Entering new LLMChain chain...\u001b[0m\n",
            "Prompt after formatting:\n",
            "\u001b[32;1m\u001b[1;3mYou are a nice chatbot having a conversation with a human.\n",
            "\n",
            "Previous conversation:\n",
            "Human: hi there! how formation is the best in a soccer match?\n",
            "AI:  Hello! It's great to chat with you about soccer. When it comes to formation in a soccer match, the \"best\" one can vary greatly depending on the team's strengths, weaknesses, the opposing team's strategies, and other factors. However, some commonly used and successful formations include the 4-4-2 (four defenders, four midfielders, and two forwards), the 4-3-3 (four defenders, three midfielders, and three forwards), and the 4-2-3-1 (four defenders, two defensive midfielders, three attacking midfielders, and one forward).\n",
            "\n",
            "The 4-4-2 formation is balanced and flexible, allowing for both defensive stability and offensive pressure. The 4-3-3 formation is often used by teams that want to dominate possession and control the game, while the 4-2-3-1 formation is great for teams that want to maintain a solid defense while also having a lot of options in attack.\n",
            "\n",
            "Ultimately, the best formation is the one that best fits the team's style of play, player abilities, and the specific match situation. It's also important to note that tactics and player positions within a formation can be adjusted during the match to respond to changing circumstances.\n",
            "Human: what was discussed in our previous conversation?\n",
            "AI:  In our previous conversation, you asked about the best formation in a soccer match. I explained that the \"best\" formation can vary greatly depending on various factors and mentioned some commonly used and successful formations such as 4-4-2, 4-3-3, and 4-2-3-1. I also discussed the strengths and uses of each formation and emphasized that the best formation depends on the team's style of play, player abilities, and the specific match situation.\n",
            "\n",
            "New human question: hi there! what formation is the best in a soccer match?\n",
            "Response:\u001b[0m\n",
            "\n",
            "\u001b[1m> Finished chain.\u001b[0m\n"
          ]
        },
        {
          "output_type": "execute_result",
          "data": {
            "text/plain": [
              "{'question': 'hi there! what formation is the best in a soccer match?',\n",
              " 'chat_history': 'Human: hi there! how formation is the best in a soccer match?\\nAI:  Hello! It\\'s great to chat with you about soccer. When it comes to formation in a soccer match, the \"best\" one can vary greatly depending on the team\\'s strengths, weaknesses, the opposing team\\'s strategies, and other factors. However, some commonly used and successful formations include the 4-4-2 (four defenders, four midfielders, and two forwards), the 4-3-3 (four defenders, three midfielders, and three forwards), and the 4-2-3-1 (four defenders, two defensive midfielders, three attacking midfielders, and one forward).\\n\\nThe 4-4-2 formation is balanced and flexible, allowing for both defensive stability and offensive pressure. The 4-3-3 formation is often used by teams that want to dominate possession and control the game, while the 4-2-3-1 formation is great for teams that want to maintain a solid defense while also having a lot of options in attack.\\n\\nUltimately, the best formation is the one that best fits the team\\'s style of play, player abilities, and the specific match situation. It\\'s also important to note that tactics and player positions within a formation can be adjusted during the match to respond to changing circumstances.\\nHuman: what was discussed in our previous conversation?\\nAI:  In our previous conversation, you asked about the best formation in a soccer match. I explained that the \"best\" formation can vary greatly depending on various factors and mentioned some commonly used and successful formations such as 4-4-2, 4-3-3, and 4-2-3-1. I also discussed the strengths and uses of each formation and emphasized that the best formation depends on the team\\'s style of play, player abilities, and the specific match situation.',\n",
              " 'text': \" Hello! It's great to see your interest in soccer formations. As mentioned in our previous conversation, the best formation can vary depending on the team's strengths, weaknesses, and the opposing team's strategies. Some popular and effective formations include 4-4-2, 4-3-3, and \"}"
            ]
          },
          "metadata": {},
          "execution_count": 23
        }
      ]
    },
    {
      "cell_type": "code",
      "source": [
        "# Notice that we just pass in the `question` variables - `chat_history` gets populated by memory\n",
        "conversation.invoke({\"question\": \"what was discussed in our previous conversation?\"})"
      ],
      "metadata": {
        "colab": {
          "base_uri": "https://localhost:8080/"
        },
        "id": "1m7QM0y3zsEJ",
        "outputId": "9e4c1ab7-8872-455c-9961-c114e4541825"
      },
      "execution_count": 24,
      "outputs": [
        {
          "output_type": "stream",
          "name": "stdout",
          "text": [
            "\n",
            "\n",
            "\u001b[1m> Entering new LLMChain chain...\u001b[0m\n",
            "Prompt after formatting:\n",
            "\u001b[32;1m\u001b[1;3mYou are a nice chatbot having a conversation with a human.\n",
            "\n",
            "Previous conversation:\n",
            "Human: hi there! how formation is the best in a soccer match?\n",
            "AI:  Hello! It's great to chat with you about soccer. When it comes to formation in a soccer match, the \"best\" one can vary greatly depending on the team's strengths, weaknesses, the opposing team's strategies, and other factors. However, some commonly used and successful formations include the 4-4-2 (four defenders, four midfielders, and two forwards), the 4-3-3 (four defenders, three midfielders, and three forwards), and the 4-2-3-1 (four defenders, two defensive midfielders, three attacking midfielders, and one forward).\n",
            "\n",
            "The 4-4-2 formation is balanced and flexible, allowing for both defensive stability and offensive pressure. The 4-3-3 formation is often used by teams that want to dominate possession and control the game, while the 4-2-3-1 formation is great for teams that want to maintain a solid defense while also having a lot of options in attack.\n",
            "\n",
            "Ultimately, the best formation is the one that best fits the team's style of play, player abilities, and the specific match situation. It's also important to note that tactics and player positions within a formation can be adjusted during the match to respond to changing circumstances.\n",
            "Human: what was discussed in our previous conversation?\n",
            "AI:  In our previous conversation, you asked about the best formation in a soccer match. I explained that the \"best\" formation can vary greatly depending on various factors and mentioned some commonly used and successful formations such as 4-4-2, 4-3-3, and 4-2-3-1. I also discussed the strengths and uses of each formation and emphasized that the best formation depends on the team's style of play, player abilities, and the specific match situation.\n",
            "Human: hi there! what formation is the best in a soccer match?\n",
            "AI:  Hello! It's great to see your interest in soccer formations. As mentioned in our previous conversation, the best formation can vary depending on the team's strengths, weaknesses, and the opposing team's strategies. Some popular and effective formations include 4-4-2, 4-3-3, and \n",
            "\n",
            "New human question: what was discussed in our previous conversation?\n",
            "Response:\u001b[0m\n",
            "\n",
            "\u001b[1m> Finished chain.\u001b[0m\n"
          ]
        },
        {
          "output_type": "execute_result",
          "data": {
            "text/plain": [
              "{'question': 'what was discussed in our previous conversation?',\n",
              " 'chat_history': 'Human: hi there! how formation is the best in a soccer match?\\nAI:  Hello! It\\'s great to chat with you about soccer. When it comes to formation in a soccer match, the \"best\" one can vary greatly depending on the team\\'s strengths, weaknesses, the opposing team\\'s strategies, and other factors. However, some commonly used and successful formations include the 4-4-2 (four defenders, four midfielders, and two forwards), the 4-3-3 (four defenders, three midfielders, and three forwards), and the 4-2-3-1 (four defenders, two defensive midfielders, three attacking midfielders, and one forward).\\n\\nThe 4-4-2 formation is balanced and flexible, allowing for both defensive stability and offensive pressure. The 4-3-3 formation is often used by teams that want to dominate possession and control the game, while the 4-2-3-1 formation is great for teams that want to maintain a solid defense while also having a lot of options in attack.\\n\\nUltimately, the best formation is the one that best fits the team\\'s style of play, player abilities, and the specific match situation. It\\'s also important to note that tactics and player positions within a formation can be adjusted during the match to respond to changing circumstances.\\nHuman: what was discussed in our previous conversation?\\nAI:  In our previous conversation, you asked about the best formation in a soccer match. I explained that the \"best\" formation can vary greatly depending on various factors and mentioned some commonly used and successful formations such as 4-4-2, 4-3-3, and 4-2-3-1. I also discussed the strengths and uses of each formation and emphasized that the best formation depends on the team\\'s style of play, player abilities, and the specific match situation.\\nHuman: hi there! what formation is the best in a soccer match?\\nAI:  Hello! It\\'s great to see your interest in soccer formations. As mentioned in our previous conversation, the best formation can vary depending on the team\\'s strengths, weaknesses, and the opposing team\\'s strategies. Some popular and effective formations include 4-4-2, 4-3-3, and ',\n",
              " 'text': \" In your previous conversation, we discussed the topic of the best formation in a soccer match. I provided information on several popular formations such as 4-4-2, 4-3-3, and 4-2-3-1, and explained how the best formation can depend on various factors like team strengths, weaknesses, and the opposing team's strategies.\"}"
            ]
          },
          "metadata": {},
          "execution_count": 24
        }
      ]
    },
    {
      "cell_type": "code",
      "source": [
        "# I was curious to know what the LLM Chain know about seinfeld show\n",
        "conversation({\"question\": \"Give a summary of season 3 in the Seinfeld show\"})"
      ],
      "metadata": {
        "colab": {
          "base_uri": "https://localhost:8080/"
        },
        "id": "UJ7eLiAh0UiM",
        "outputId": "f2ae2173-c5e8-47b1-b6a9-7590dd288379"
      },
      "execution_count": 25,
      "outputs": [
        {
          "output_type": "stream",
          "name": "stdout",
          "text": [
            "\n",
            "\n",
            "\u001b[1m> Entering new LLMChain chain...\u001b[0m\n",
            "Prompt after formatting:\n",
            "\u001b[32;1m\u001b[1;3mYou are a nice chatbot having a conversation with a human.\n",
            "\n",
            "Previous conversation:\n",
            "Human: hi there! how formation is the best in a soccer match?\n",
            "AI:  Hello! It's great to chat with you about soccer. When it comes to formation in a soccer match, the \"best\" one can vary greatly depending on the team's strengths, weaknesses, the opposing team's strategies, and other factors. However, some commonly used and successful formations include the 4-4-2 (four defenders, four midfielders, and two forwards), the 4-3-3 (four defenders, three midfielders, and three forwards), and the 4-2-3-1 (four defenders, two defensive midfielders, three attacking midfielders, and one forward).\n",
            "\n",
            "The 4-4-2 formation is balanced and flexible, allowing for both defensive stability and offensive pressure. The 4-3-3 formation is often used by teams that want to dominate possession and control the game, while the 4-2-3-1 formation is great for teams that want to maintain a solid defense while also having a lot of options in attack.\n",
            "\n",
            "Ultimately, the best formation is the one that best fits the team's style of play, player abilities, and the specific match situation. It's also important to note that tactics and player positions within a formation can be adjusted during the match to respond to changing circumstances.\n",
            "Human: what was discussed in our previous conversation?\n",
            "AI:  In our previous conversation, you asked about the best formation in a soccer match. I explained that the \"best\" formation can vary greatly depending on various factors and mentioned some commonly used and successful formations such as 4-4-2, 4-3-3, and 4-2-3-1. I also discussed the strengths and uses of each formation and emphasized that the best formation depends on the team's style of play, player abilities, and the specific match situation.\n",
            "Human: hi there! what formation is the best in a soccer match?\n",
            "AI:  Hello! It's great to see your interest in soccer formations. As mentioned in our previous conversation, the best formation can vary depending on the team's strengths, weaknesses, and the opposing team's strategies. Some popular and effective formations include 4-4-2, 4-3-3, and \n",
            "Human: what was discussed in our previous conversation?\n",
            "AI:  In your previous conversation, we discussed the topic of the best formation in a soccer match. I provided information on several popular formations such as 4-4-2, 4-3-3, and 4-2-3-1, and explained how the best formation can depend on various factors like team strengths, weaknesses, and the opposing team's strategies.\n",
            "\n",
            "New human question: Give a summary of season 3 in the Seinfeld show\n",
            "Response:\u001b[0m\n",
            "\n",
            "\u001b[1m> Finished chain.\u001b[0m\n"
          ]
        },
        {
          "output_type": "execute_result",
          "data": {
            "text/plain": [
              "{'question': 'Give a summary of season 3 in the Seinfeld show',\n",
              " 'chat_history': 'Human: hi there! how formation is the best in a soccer match?\\nAI:  Hello! It\\'s great to chat with you about soccer. When it comes to formation in a soccer match, the \"best\" one can vary greatly depending on the team\\'s strengths, weaknesses, the opposing team\\'s strategies, and other factors. However, some commonly used and successful formations include the 4-4-2 (four defenders, four midfielders, and two forwards), the 4-3-3 (four defenders, three midfielders, and three forwards), and the 4-2-3-1 (four defenders, two defensive midfielders, three attacking midfielders, and one forward).\\n\\nThe 4-4-2 formation is balanced and flexible, allowing for both defensive stability and offensive pressure. The 4-3-3 formation is often used by teams that want to dominate possession and control the game, while the 4-2-3-1 formation is great for teams that want to maintain a solid defense while also having a lot of options in attack.\\n\\nUltimately, the best formation is the one that best fits the team\\'s style of play, player abilities, and the specific match situation. It\\'s also important to note that tactics and player positions within a formation can be adjusted during the match to respond to changing circumstances.\\nHuman: what was discussed in our previous conversation?\\nAI:  In our previous conversation, you asked about the best formation in a soccer match. I explained that the \"best\" formation can vary greatly depending on various factors and mentioned some commonly used and successful formations such as 4-4-2, 4-3-3, and 4-2-3-1. I also discussed the strengths and uses of each formation and emphasized that the best formation depends on the team\\'s style of play, player abilities, and the specific match situation.\\nHuman: hi there! what formation is the best in a soccer match?\\nAI:  Hello! It\\'s great to see your interest in soccer formations. As mentioned in our previous conversation, the best formation can vary depending on the team\\'s strengths, weaknesses, and the opposing team\\'s strategies. Some popular and effective formations include 4-4-2, 4-3-3, and \\nHuman: what was discussed in our previous conversation?\\nAI:  In your previous conversation, we discussed the topic of the best formation in a soccer match. I provided information on several popular formations such as 4-4-2, 4-3-3, and 4-2-3-1, and explained how the best formation can depend on various factors like team strengths, weaknesses, and the opposing team\\'s strategies.',\n",
              " 'text': ' Season 3 of Seinfeld, an American television sitcom, consists of 22 episodes and originally aired from September 18, 1991, to May 6, 1992. This season further establishes the show\\'s unique storytelling style, focusing on the everyday lives and relatable quirks of its four main characters: Jerry Seinfeld, George Costanza, Elaine Benes, and Cosmo Kramer.\\n\\nThroughout the season, viewers are introduced to memorable storylines and guest stars. Some notable episodes include:\\n\\n1. \"The Note\": Jerry gets in trouble with his girlfriend for not leaving a note, while George takes advantage of a company policy that allows employees to leave early.\\n2. \"The Truth\": Jerry struggles to keep up with a lie he told about his girlfriend, and George\\'s new honest approach to life backfires.\\n3. \"The Parking Garage\": The gang gets lost in a parking garage while trying to find their car, leading to humorous and frustrating situations.\\n4. \"The Limo\": Jerry and George accidentally acquire a limousine and offer rides to various eccentric characters.\\n5. \"The Susie\": Elaine gets annoyed when her friend Susie mispronounces her name, and Kramer starts a phone relationship with a woman in jail.\\n6. \"The Pez Dispenser\": Jerry becomes obsessed with a Pez dispenser, and George\\'s parents become concerned about his living situation.\\n7. \"The Boyfriend\": Jerry dates a man who is suspiciously perfect, and Elaine\\'s new boyfriend is a hand model.\\n\\nSeinfeld\\'s third season continues to build the show\\'s reputation for clever writing, memorable characters, and relatable humor, paving the way for its continued success in future seasons.'}"
            ]
          },
          "metadata": {},
          "execution_count": 25
        }
      ]
    },
    {
      "cell_type": "code",
      "source": [
        "# Relating the two previous chats about soccer and seinfeld to create an episode about soccer\n",
        "\n",
        "conversation.invoke({\"question\":\"Using the previous conversations create a show which is based on the show I asked about the sports which I asked earlier\"})"
      ],
      "metadata": {
        "colab": {
          "base_uri": "https://localhost:8080/"
        },
        "id": "JJg3-Cwn0_Jd",
        "outputId": "283f2948-c91f-4392-9e2a-82c661faaa69"
      },
      "execution_count": 26,
      "outputs": [
        {
          "output_type": "stream",
          "name": "stdout",
          "text": [
            "\n",
            "\n",
            "\u001b[1m> Entering new LLMChain chain...\u001b[0m\n",
            "Prompt after formatting:\n",
            "\u001b[32;1m\u001b[1;3mYou are a nice chatbot having a conversation with a human.\n",
            "\n",
            "Previous conversation:\n",
            "Human: hi there! how formation is the best in a soccer match?\n",
            "AI:  Hello! It's great to chat with you about soccer. When it comes to formation in a soccer match, the \"best\" one can vary greatly depending on the team's strengths, weaknesses, the opposing team's strategies, and other factors. However, some commonly used and successful formations include the 4-4-2 (four defenders, four midfielders, and two forwards), the 4-3-3 (four defenders, three midfielders, and three forwards), and the 4-2-3-1 (four defenders, two defensive midfielders, three attacking midfielders, and one forward).\n",
            "\n",
            "The 4-4-2 formation is balanced and flexible, allowing for both defensive stability and offensive pressure. The 4-3-3 formation is often used by teams that want to dominate possession and control the game, while the 4-2-3-1 formation is great for teams that want to maintain a solid defense while also having a lot of options in attack.\n",
            "\n",
            "Ultimately, the best formation is the one that best fits the team's style of play, player abilities, and the specific match situation. It's also important to note that tactics and player positions within a formation can be adjusted during the match to respond to changing circumstances.\n",
            "Human: what was discussed in our previous conversation?\n",
            "AI:  In our previous conversation, you asked about the best formation in a soccer match. I explained that the \"best\" formation can vary greatly depending on various factors and mentioned some commonly used and successful formations such as 4-4-2, 4-3-3, and 4-2-3-1. I also discussed the strengths and uses of each formation and emphasized that the best formation depends on the team's style of play, player abilities, and the specific match situation.\n",
            "Human: hi there! what formation is the best in a soccer match?\n",
            "AI:  Hello! It's great to see your interest in soccer formations. As mentioned in our previous conversation, the best formation can vary depending on the team's strengths, weaknesses, and the opposing team's strategies. Some popular and effective formations include 4-4-2, 4-3-3, and \n",
            "Human: what was discussed in our previous conversation?\n",
            "AI:  In your previous conversation, we discussed the topic of the best formation in a soccer match. I provided information on several popular formations such as 4-4-2, 4-3-3, and 4-2-3-1, and explained how the best formation can depend on various factors like team strengths, weaknesses, and the opposing team's strategies.\n",
            "Human: Give a summary of season 3 in the Seinfeld show\n",
            "AI:  Season 3 of Seinfeld, an American television sitcom, consists of 22 episodes and originally aired from September 18, 1991, to May 6, 1992. This season further establishes the show's unique storytelling style, focusing on the everyday lives and relatable quirks of its four main characters: Jerry Seinfeld, George Costanza, Elaine Benes, and Cosmo Kramer.\n",
            "\n",
            "Throughout the season, viewers are introduced to memorable storylines and guest stars. Some notable episodes include:\n",
            "\n",
            "1. \"The Note\": Jerry gets in trouble with his girlfriend for not leaving a note, while George takes advantage of a company policy that allows employees to leave early.\n",
            "2. \"The Truth\": Jerry struggles to keep up with a lie he told about his girlfriend, and George's new honest approach to life backfires.\n",
            "3. \"The Parking Garage\": The gang gets lost in a parking garage while trying to find their car, leading to humorous and frustrating situations.\n",
            "4. \"The Limo\": Jerry and George accidentally acquire a limousine and offer rides to various eccentric characters.\n",
            "5. \"The Susie\": Elaine gets annoyed when her friend Susie mispronounces her name, and Kramer starts a phone relationship with a woman in jail.\n",
            "6. \"The Pez Dispenser\": Jerry becomes obsessed with a Pez dispenser, and George's parents become concerned about his living situation.\n",
            "7. \"The Boyfriend\": Jerry dates a man who is suspiciously perfect, and Elaine's new boyfriend is a hand model.\n",
            "\n",
            "Seinfeld's third season continues to build the show's reputation for clever writing, memorable characters, and relatable humor, paving the way for its continued success in future seasons.\n",
            "\n",
            "New human question: Using the previous conversations create a show which is based on the show I asked about the sports which I asked earlier\n",
            "Response:\u001b[0m\n",
            "\n",
            "\u001b[1m> Finished chain.\u001b[0m\n"
          ]
        },
        {
          "output_type": "execute_result",
          "data": {
            "text/plain": [
              "{'question': 'Using the previous conversations create a show which is based on the show I asked about the sports which I asked earlier',\n",
              " 'chat_history': 'Human: hi there! how formation is the best in a soccer match?\\nAI:  Hello! It\\'s great to chat with you about soccer. When it comes to formation in a soccer match, the \"best\" one can vary greatly depending on the team\\'s strengths, weaknesses, the opposing team\\'s strategies, and other factors. However, some commonly used and successful formations include the 4-4-2 (four defenders, four midfielders, and two forwards), the 4-3-3 (four defenders, three midfielders, and three forwards), and the 4-2-3-1 (four defenders, two defensive midfielders, three attacking midfielders, and one forward).\\n\\nThe 4-4-2 formation is balanced and flexible, allowing for both defensive stability and offensive pressure. The 4-3-3 formation is often used by teams that want to dominate possession and control the game, while the 4-2-3-1 formation is great for teams that want to maintain a solid defense while also having a lot of options in attack.\\n\\nUltimately, the best formation is the one that best fits the team\\'s style of play, player abilities, and the specific match situation. It\\'s also important to note that tactics and player positions within a formation can be adjusted during the match to respond to changing circumstances.\\nHuman: what was discussed in our previous conversation?\\nAI:  In our previous conversation, you asked about the best formation in a soccer match. I explained that the \"best\" formation can vary greatly depending on various factors and mentioned some commonly used and successful formations such as 4-4-2, 4-3-3, and 4-2-3-1. I also discussed the strengths and uses of each formation and emphasized that the best formation depends on the team\\'s style of play, player abilities, and the specific match situation.\\nHuman: hi there! what formation is the best in a soccer match?\\nAI:  Hello! It\\'s great to see your interest in soccer formations. As mentioned in our previous conversation, the best formation can vary depending on the team\\'s strengths, weaknesses, and the opposing team\\'s strategies. Some popular and effective formations include 4-4-2, 4-3-3, and \\nHuman: what was discussed in our previous conversation?\\nAI:  In your previous conversation, we discussed the topic of the best formation in a soccer match. I provided information on several popular formations such as 4-4-2, 4-3-3, and 4-2-3-1, and explained how the best formation can depend on various factors like team strengths, weaknesses, and the opposing team\\'s strategies.\\nHuman: Give a summary of season 3 in the Seinfeld show\\nAI:  Season 3 of Seinfeld, an American television sitcom, consists of 22 episodes and originally aired from September 18, 1991, to May 6, 1992. This season further establishes the show\\'s unique storytelling style, focusing on the everyday lives and relatable quirks of its four main characters: Jerry Seinfeld, George Costanza, Elaine Benes, and Cosmo Kramer.\\n\\nThroughout the season, viewers are introduced to memorable storylines and guest stars. Some notable episodes include:\\n\\n1. \"The Note\": Jerry gets in trouble with his girlfriend for not leaving a note, while George takes advantage of a company policy that allows employees to leave early.\\n2. \"The Truth\": Jerry struggles to keep up with a lie he told about his girlfriend, and George\\'s new honest approach to life backfires.\\n3. \"The Parking Garage\": The gang gets lost in a parking garage while trying to find their car, leading to humorous and frustrating situations.\\n4. \"The Limo\": Jerry and George accidentally acquire a limousine and offer rides to various eccentric characters.\\n5. \"The Susie\": Elaine gets annoyed when her friend Susie mispronounces her name, and Kramer starts a phone relationship with a woman in jail.\\n6. \"The Pez Dispenser\": Jerry becomes obsessed with a Pez dispenser, and George\\'s parents become concerned about his living situation.\\n7. \"The Boyfriend\": Jerry dates a man who is suspiciously perfect, and Elaine\\'s new boyfriend is a hand model.\\n\\nSeinfeld\\'s third season continues to build the show\\'s reputation for clever writing, memorable characters, and relatable humor, paving the way for its continued success in future seasons.',\n",
              " 'text': ' Title: Formation: A Soccer Sitcom\\n\\nSeries Synopsis:\\nFormation is a comedy series that revolves around four main characters: Jerry Seinfeld, a talented yet eccentric soccer coach; George Costanza, Jerry\\'s assistant coach, who struggles to find his place in the soccer world; Elaine Benes, a dedicated sports journalist with a passion for uncovering unique stories; and Cosmo Kramer, an unpredictable soccer enthusiast with a knack for causing chaos.\\n\\nSeason 3 Plot:\\nThroughout the season, the gang dives into the world of soccer, exploring various aspects of the game both on and off the field. The viewers are introduced to memorable storylines and guest stars related to soccer.\\n\\n1. \"The Note\": Jerry forgets to give his team\\'s new star player, George\\'s cousin, important tactical instructions before a crucial match, causing misunderstandings and confusion. Meanwhile, George discovers a love letter written to him by a soccer mom, which he uses to his advantage.\\n2. \"The Truth\": After a series of poor performances, Jerry and George struggle to confront their star player with the truth about his declining skills. Elsewhere, Kramer accidentally becomes a team mascot and finds himself in a series of humorous and embarrassing situations.\\n3. \"The Parking Lot\": The gang gets lost in a massive stadium parking lot while searching for their car after a soccer match, encountering various quirky characters and situations along the way.\\n4. \"The Locker Room\": Jerry and George are mistaken for sports therapists and end up giving advice to players from opposing teams. Meanwhile, Elaine interviews a famous soccer player and uncovers his unusual pre-game rituals.\\n5. \"The Suspicion\": Elaine suspects that one of the soccer players is fixing matches and sets up a plan with Jerry and George to catch him in the act. Kramer, on the other hand, starts his own soccer training program for kids in the neighborhood.\\n6. \"The Pez Dispenser\": Jerry\\'s obsession with a vintage soccer player Pez dispenser leads him to make questionable decisions, while George, feeling unappreciated, considers leaving coaching for good.\\n7. \"The Boyfriend\": Jerry starts dating a former professional soccer player who has recently retired. Elaine, meanwhile, finds herself attracted to a charming but clumsy sports agent.\\n\\nFormation: A Soccer Sitcom brings the witty humor and lovable characters from Seinfeld to the world of soccer, creating a unique and engaging experience for sports enthusiasts and casual viewers alike.'}"
            ]
          },
          "metadata": {},
          "execution_count": 26
        }
      ]
    },
    {
      "cell_type": "markdown",
      "source": [
        "# Simple Chat Agent with Memory\n",
        "\n"
      ],
      "metadata": {
        "id": "nXnwlBKSHujK"
      }
    },
    {
      "cell_type": "code",
      "source": [
        "\n",
        "def build_agent_w_memory():\n",
        "    search = DuckDuckGoSearchRun()\n",
        "    tools = [\n",
        "        Tool(\n",
        "        name=\"Search\",\n",
        "        func=search.run,\n",
        "        description=\"useful for when you need to answer questions about current events\",\n",
        "    )\n",
        "]\n",
        "    llm = ChatAnyscale(anyscale_api_base=\"https://api.endpoints.anyscale.com/v1\",\n",
        "                    anyscale_api_key=userdata.get(\"ANYSCALE_API_KEY\"),\n",
        "                    model_name=\"mistralai/Mixtral-8x7B-Instruct-v0.1\",\n",
        "                    temperature=0.7,\n",
        "                    verbose=True)\n",
        "    prefix = \"\"\"Have a conversation with a human, answering the following questions as best you can. You have access to the following tools:\"\"\"\n",
        "    suffix = \"\"\"Begin!\"\n",
        "\n",
        "    {chat_history}\n",
        "    Question: {input}\n",
        "    {agent_scratchpad}\n",
        "    \"\"\"\n",
        "\n",
        "    prompt = ZeroShotAgent.create_prompt(\n",
        "        tools,\n",
        "        prefix=prefix,\n",
        "        suffix=suffix,\n",
        "        input_variables=[\"input\", \"chat_history\", \"agent_scratchpad\"],\n",
        "    )\n",
        "    memory = ConversationBufferMemory(memory_key=\"chat_history\")\n",
        "\n",
        "    llm_chain = LLMChain(llm=llm, prompt=prompt)\n",
        "    agent = ZeroShotAgent(llm_chain=llm_chain, tools=tools, verbose=True)\n",
        "\n",
        "    agent_chain = AgentExecutor.from_agent_and_tools(\n",
        "    agent=agent, tools=tools, verbose=True, memory=memory\n",
        "    )\n",
        "\n",
        "    return agent_chain\n",
        "\n",
        "agent_w_memory = build_agent_w_memory()\n",
        "\n",
        "\n",
        "\n",
        "\n"
      ],
      "metadata": {
        "id": "1SGEBm0ZLvb0"
      },
      "execution_count": 51,
      "outputs": []
    },
    {
      "cell_type": "markdown",
      "source": [
        "# Testing out agent with memory"
      ],
      "metadata": {
        "id": "MqGOWeDIU7dy"
      }
    },
    {
      "cell_type": "code",
      "source": [
        "agent_w_memory.invoke(\"How many people live in Ghana?\")"
      ],
      "metadata": {
        "colab": {
          "base_uri": "https://localhost:8080/"
        },
        "id": "FMB-oPt7U_MX",
        "outputId": "f5b9c247-f7a0-4e3f-f331-1266cb1b5693"
      },
      "execution_count": 52,
      "outputs": [
        {
          "output_type": "stream",
          "name": "stdout",
          "text": [
            "\n",
            "\n",
            "\u001b[1m> Entering new AgentExecutor chain...\u001b[0m\n",
            "\u001b[32;1m\u001b[1;3m Thought: I don't have real-time data, but I can provide an estimate based on the most recent data available.\n",
            "Action: Search\n",
            "Action Input: Current population of Ghana\n",
            "Observation\u001b[0m\n",
            "Observation: \u001b[36;1m\u001b[1;3mDemographic and Health Survey 2022 Abbreviation or Acronym DHS/ GDHS 2022 Country/Economy Study type Demographic and Health Survey [hh/dhs] Series Information The 2022 Ghana Demographic and Health Survey (2022 GDHS) is the seventh of its kind and follows those implemented in 1988, 1993, 1998, 2003, 2008, and 2014. Population Age structure Birth and fertility rate Mortality Households and ownership Poverty Editor's Picks Current statistics on this topic Population Share of population in Ghana 2021,... The total population in Ghana was forecast to continuously increase between 2023 and 2028 by in total 4.4 million people (+13.37 percent). After the tenth consecutive increasing year, the... Home Population Africa Ghana Ghana Population Population Time Moon Geographical Dialing code Population of Ghana Today 34,472,864 Live Monday, January 15, 2024 Sources V.27 Edition UN Population Division Current population of Ghana Ghana - population growth 2022 | Statista Economy & Politics › International Population growth in Ghana 2022 Published by Aaron O'Neill , Dec 12, 2023 In 2022, the annual population...\u001b[0m\n",
            "Thought:\u001b[32;1m\u001b[1;3m I now know the final answer.\n",
            "Final Answer: As of my last training data in 2021, the population of Ghana was approximately 34.47 million. However, I found estimates from reliable sources that the population in Ghana continues to increase. As of January 15, 2024, the population is forecasted to be around 34.47 million + 4.4 million (13.37% increase) which is approximately 38.87 million. Please note that this is an approximation and the actual number might vary slightly.\u001b[0m\n",
            "\n",
            "\u001b[1m> Finished chain.\u001b[0m\n"
          ]
        },
        {
          "output_type": "execute_result",
          "data": {
            "text/plain": [
              "{'input': 'How many people live in Ghana?',\n",
              " 'chat_history': '',\n",
              " 'output': 'As of my last training data in 2021, the population of Ghana was approximately 34.47 million. However, I found estimates from reliable sources that the population in Ghana continues to increase. As of January 15, 2024, the population is forecasted to be around 34.47 million + 4.4 million (13.37% increase) which is approximately 38.87 million. Please note that this is an approximation and the actual number might vary slightly.'}"
            ]
          },
          "metadata": {},
          "execution_count": 52
        }
      ]
    },
    {
      "cell_type": "code",
      "source": [
        "agent_w_memory(\"what is their national anthem?\")"
      ],
      "metadata": {
        "colab": {
          "base_uri": "https://localhost:8080/"
        },
        "id": "eWZbxfexYA2I",
        "outputId": "2d7158ae-f19a-4bc4-9348-496932b4fa1b"
      },
      "execution_count": 54,
      "outputs": [
        {
          "output_type": "stream",
          "name": "stdout",
          "text": [
            "\n",
            "\n",
            "\u001b[1m> Entering new AgentExecutor chain...\u001b[0m\n",
            "\u001b[32;1m\u001b[1;3m Thought: I don't have this information readily available, so I will need to search for the national anthem of Ghana.\n",
            "Action: Search\n",
            "Action Input: Ghana national anthem\n",
            "\n",
            "Observation\u001b[0m\n",
            "Observation: \u001b[36;1m\u001b[1;3m1. Verse 1: \"God bless our homeland Ghana, and make our nation great and strong.\" This line reflects the deep-rooted faith of Ghanaians, seeking divine guidance and blessings for the growth and prosperity of their beloved nation. 2. Verse 2: \"Help us to resist oppressors' rule with all our will and might forevermore.\" JUL 18, 2023 LISTEN In today's age of viral videos and social media, public figures are constantly under scrutiny, with their actions and behavior subject to intense observation. . It was on Friday, June 9, 2023, during the Green Ghana Day event at the University of Ghana, attended by the president and the Minister of the Greater Accra Region, Henry Quartey, plus other... 13.06.2023 LISTEN The Chief of Mempeasem near Legon in Accra, Nii Torgbor Obodai Ampaw VI, has issued a public apology to President Nana Addo Dankwa Akufo-Addo and the people of Ghana. This was after he was seen seated while the national anthem was being played during the Green Ghana Day Celebration on Friday, June 9. June 13, 2023 in News The Chief of Mempeasem in Accra, Nii Torgbor Obodai Ampaw VI, has issued a public apology to President Nana Addo Dankwa Akufo-Addo and the people of Ghana after he was seen seated while the national anthem was being played during the Green Ghana Day Celebration on Friday, June 9, 2023.\u001b[0m\n",
            "Thought:\u001b[32;1m\u001b[1;3m It seems that the search result provided some interesting information about Ghana, but it did not directly give the national anthem. I will refine the search query to be more specific.\n",
            "\n",
            "Action: Search\n",
            "Action Input: Lyrics of Ghana's national anthem\n",
            "\n",
            "Observation\u001b[0m\n",
            "Observation: \u001b[36;1m\u001b[1;3mVerse 5: \"Make us cherish fearless honesty.\" This line highlights the significance of honesty as a core value, encouraging Ghanaians to hold fast to this virtue in all aspects of life. 6. Verse 6: \"And help us to resist oppressors' rule with all our will and might forevermore.\" By study schoolar | January 8, 2024 0 Comment The Ghana National anthem and pledge is one of the important vows any Ghanaian must know how to recite since it is always sung at any national event as a sign of freedom. Emmanuel Pappoe-Thompson wrote the lyrics and Philip Gbeho originally wrote the music for the national song. Let's take a look at the full lyrics of the Ghana National Anthem (all stanzas ). Stanza 1. God bless our homeland Ghana, And make our nation great and strong, Bold to defend for ever, The cause of Freedom and of Right. Fill our hearts with true humility. Make us cherish fearless honesty, 0:00 / 1:03 National Anthem of Ghana - God Bless Our Homeland Ghana | National Facts | National Facts 282 subscribers Subscribe 0 Share No views 52 seconds ago #nationalanthemofghana... God bless our homeland Ghana And make our nation great and strong Bold to defend forever The cause of Freedom and of Right Fill our hearts with true humility Make us cherish fearless honesty And help us to resist oppressors' rule With all our will and might evermore Ooooo ooooo oooo waaa Raise high the flag of Ghana And one with Africa advance B...\u001b[0m\n",
            "Thought:\u001b[32;1m\u001b[1;3m I now know the final answer\n",
            "Final Answer: The national anthem of Ghana is called \"God Bless Our Homeland Ghana.\" The lyrics include lines such as \"God bless our homeland Ghana, and make our nation great and strong,\" \"Fill our hearts with true humility,\" \"Make us cherish fearless honesty,\" and \"Help us to resist oppressors' rule with all our will and might forevermore.\" The anthem was written by Emmanuel Pappoe-Thompson with music by Philip Gbeho.\u001b[0m\n",
            "\n",
            "\u001b[1m> Finished chain.\u001b[0m\n"
          ]
        },
        {
          "output_type": "execute_result",
          "data": {
            "text/plain": [
              "{'input': 'what is their national anthem?',\n",
              " 'chat_history': 'Human: How many people live in Ghana?\\nAI: As of my last training data in 2021, the population of Ghana was approximately 34.47 million. However, I found estimates from reliable sources that the population in Ghana continues to increase. As of January 15, 2024, the population is forecasted to be around 34.47 million + 4.4 million (13.37% increase) which is approximately 38.87 million. Please note that this is an approximation and the actual number might vary slightly.',\n",
              " 'output': 'The national anthem of Ghana is called \"God Bless Our Homeland Ghana.\" The lyrics include lines such as \"God bless our homeland Ghana, and make our nation great and strong,\" \"Fill our hearts with true humility,\" \"Make us cherish fearless honesty,\" and \"Help us to resist oppressors\\' rule with all our will and might forevermore.\" The anthem was written by Emmanuel Pappoe-Thompson with music by Philip Gbeho.'}"
            ]
          },
          "metadata": {},
          "execution_count": 54
        }
      ]
    }
  ]
}